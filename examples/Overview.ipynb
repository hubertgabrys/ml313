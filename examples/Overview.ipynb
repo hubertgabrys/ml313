{
 "cells": [
  {
   "cell_type": "code",
   "execution_count": 28,
   "metadata": {},
   "outputs": [],
   "source": [
    "import sys\n",
    "sys.path.append('C:/Users/Hubert/repos/radioman-little-helper')\n",
    "\n",
    "\n",
    "from sklearn.datasets import load_iris\n",
    "\n",
    "from radler.univariate_analysis import univariate_analysis\n",
    "from radler.plot import plot_roc_curve\n",
    "\n",
    "import hashlib\n",
    "import time\n",
    "from tqdm import tqdm_notebook\n",
    "from datetime import datetime\n",
    "from radler.auto_ml import get_pipeline\n",
    "from radler.auto_ml import get_param_dist\n",
    "from sklearn.model_selection import RandomizedSearchCV\n",
    "from sklearn.model_selection import RepeatedStratifiedKFold\n",
    "import numpy as np\n",
    "import pandas as pd\n",
    "import os, sys, warnings\n",
    "if not sys.warnoptions:\n",
    "    warnings.simplefilter('ignore')\n",
    "    os.environ['PYTHONWARNINGS'] = 'ignore'"
   ]
  },
  {
   "cell_type": "code",
   "execution_count": 29,
   "metadata": {},
   "outputs": [],
   "source": [
    "data_iris = load_iris()\n",
    "X = pd.DataFrame(data_iris['data'])\n",
    "y = data_iris['target']==1"
   ]
  },
  {
   "cell_type": "code",
   "execution_count": 30,
   "metadata": {},
   "outputs": [
    {
     "data": {
      "text/plain": "   n_neg  n_pos  median_neg  median_pos direction   cohen_d     AUC     AUC_L  \\\n0    100     50         5.7        5.90  positive  0.167827  0.5715  0.503000   \n1    100     50         3.2        2.80  negative -1.114976  0.7942  0.733988   \n2    100     50         3.2        4.35  positive  0.434049  0.5089  0.431868   \n3    100     50         1.0        1.30  positive  0.250173  0.5098  0.430100   \n\n      AUC_H  U_stat        U_pval     F_stat        F_pval     H_stat  \\\n0  0.643067  2857.5  1.542841e-01   0.938858  3.341524e-01   2.035062   \n1  0.846273  3971.0  3.919743e-09  41.439072  1.595624e-09  34.686763   \n2  0.586600  2544.5  8.606063e-01   6.279943  1.329302e-02   0.031541   \n3  0.583200  2549.0  8.459355e-01   2.086218  1.507473e-01   0.038538   \n\n         H_pval   FWER    FDR  \n0  1.537079e-01  False  False  \n1  3.872558e-09   True   True  \n2  8.590388e-01  False  False  \n3  8.443674e-01  False  False  ",
      "text/html": "<div>\n<style scoped>\n    .dataframe tbody tr th:only-of-type {\n        vertical-align: middle;\n    }\n\n    .dataframe tbody tr th {\n        vertical-align: top;\n    }\n\n    .dataframe thead th {\n        text-align: right;\n    }\n</style>\n<table border=\"1\" class=\"dataframe\">\n  <thead>\n    <tr style=\"text-align: right;\">\n      <th></th>\n      <th>n_neg</th>\n      <th>n_pos</th>\n      <th>median_neg</th>\n      <th>median_pos</th>\n      <th>direction</th>\n      <th>cohen_d</th>\n      <th>AUC</th>\n      <th>AUC_L</th>\n      <th>AUC_H</th>\n      <th>U_stat</th>\n      <th>U_pval</th>\n      <th>F_stat</th>\n      <th>F_pval</th>\n      <th>H_stat</th>\n      <th>H_pval</th>\n      <th>FWER</th>\n      <th>FDR</th>\n    </tr>\n  </thead>\n  <tbody>\n    <tr>\n      <th>0</th>\n      <td>100</td>\n      <td>50</td>\n      <td>5.7</td>\n      <td>5.90</td>\n      <td>positive</td>\n      <td>0.167827</td>\n      <td>0.5715</td>\n      <td>0.503000</td>\n      <td>0.643067</td>\n      <td>2857.5</td>\n      <td>1.542841e-01</td>\n      <td>0.938858</td>\n      <td>3.341524e-01</td>\n      <td>2.035062</td>\n      <td>1.537079e-01</td>\n      <td>False</td>\n      <td>False</td>\n    </tr>\n    <tr>\n      <th>1</th>\n      <td>100</td>\n      <td>50</td>\n      <td>3.2</td>\n      <td>2.80</td>\n      <td>negative</td>\n      <td>-1.114976</td>\n      <td>0.7942</td>\n      <td>0.733988</td>\n      <td>0.846273</td>\n      <td>3971.0</td>\n      <td>3.919743e-09</td>\n      <td>41.439072</td>\n      <td>1.595624e-09</td>\n      <td>34.686763</td>\n      <td>3.872558e-09</td>\n      <td>True</td>\n      <td>True</td>\n    </tr>\n    <tr>\n      <th>2</th>\n      <td>100</td>\n      <td>50</td>\n      <td>3.2</td>\n      <td>4.35</td>\n      <td>positive</td>\n      <td>0.434049</td>\n      <td>0.5089</td>\n      <td>0.431868</td>\n      <td>0.586600</td>\n      <td>2544.5</td>\n      <td>8.606063e-01</td>\n      <td>6.279943</td>\n      <td>1.329302e-02</td>\n      <td>0.031541</td>\n      <td>8.590388e-01</td>\n      <td>False</td>\n      <td>False</td>\n    </tr>\n    <tr>\n      <th>3</th>\n      <td>100</td>\n      <td>50</td>\n      <td>1.0</td>\n      <td>1.30</td>\n      <td>positive</td>\n      <td>0.250173</td>\n      <td>0.5098</td>\n      <td>0.430100</td>\n      <td>0.583200</td>\n      <td>2549.0</td>\n      <td>8.459355e-01</td>\n      <td>2.086218</td>\n      <td>1.507473e-01</td>\n      <td>0.038538</td>\n      <td>8.443674e-01</td>\n      <td>False</td>\n      <td>False</td>\n    </tr>\n  </tbody>\n</table>\n</div>"
     },
     "execution_count": 30,
     "metadata": {},
     "output_type": "execute_result"
    }
   ],
   "source": [
    "univariate_analysis(X, y)"
   ]
  },
  {
   "cell_type": "code",
   "execution_count": 31,
   "metadata": {},
   "outputs": [
    {
     "data": {
      "text/plain": "<Figure size 432x288 with 1 Axes>",
      "image/png": "[encoded data removed]"
     },
     "metadata": {
      "needs_background": "light"
     },
     "output_type": "display_data"
    },
    {
     "data": {
      "text/plain": "(array([0.  , 0.  , 0.01, 0.02, 0.02, 0.06, 0.08, 0.12, 0.2 , 0.23, 0.41,\n        0.49, 0.59, 0.64, 0.75, 0.81, 0.85, 0.88, 0.94, 0.96, 1.  ]),\n array([0.  , 0.02, 0.06, 0.12, 0.18, 0.26, 0.32, 0.42, 0.54, 0.68, 0.84,\n        0.9 , 0.96, 0.98, 1.  , 1.  , 1.  , 1.  , 1.  , 1.  , 1.  ]),\n 0.7942)"
     },
     "execution_count": 31,
     "metadata": {},
     "output_type": "execute_result"
    }
   ],
   "source": [
    "plot_roc_curve(X, 1, data_iris['target']==1)"
   ]
  },
  {
   "cell_type": "code",
   "execution_count": 32,
   "metadata": {},
   "outputs": [
    {
     "data": {
      "text/plain": "HBox(children=(FloatProgress(value=0.0, description='template', max=3.0, style=ProgressStyle(description_width…",
      "application/vnd.jupyter.widget-view+json": {
       "version_major": 2,
       "version_minor": 0,
       "model_id": "7ba60bd0c6f6454388aaeb473b5a6a02"
      }
     },
     "metadata": {},
     "output_type": "display_data"
    },
    {
     "data": {
      "text/plain": "HBox(children=(FloatProgress(value=0.0, description='max features', max=2.0, style=ProgressStyle(description_w…",
      "application/vnd.jupyter.widget-view+json": {
       "version_major": 2,
       "version_minor": 0,
       "model_id": "f68db30ea4ac4351b9ebfd3a7b5c1ddc"
      }
     },
     "metadata": {},
     "output_type": "display_data"
    },
    {
     "data": {
      "text/plain": "HBox(children=(FloatProgress(value=0.0, description='hyperparameter samples', max=2.0, style=ProgressStyle(des…",
      "application/vnd.jupyter.widget-view+json": {
       "version_major": 2,
       "version_minor": 0,
       "model_id": "152a8f4fe45845098fbde27cb6e4c1cb"
      }
     },
     "metadata": {},
     "output_type": "display_data"
    },
    {
     "data": {
      "text/plain": "HBox(children=(FloatProgress(value=0.0, description='hyperparameter samples', max=2.0, style=ProgressStyle(des…",
      "application/vnd.jupyter.widget-view+json": {
       "version_major": 2,
       "version_minor": 0,
       "model_id": "7726aa97de1a493fb7e4917685829ec0"
      }
     },
     "metadata": {},
     "output_type": "display_data"
    },
    {
     "data": {
      "text/plain": "HBox(children=(FloatProgress(value=0.0, description='max features', max=2.0, style=ProgressStyle(description_w…",
      "application/vnd.jupyter.widget-view+json": {
       "version_major": 2,
       "version_minor": 0,
       "model_id": "9d0738a281014512859e8e6a7c453e40"
      }
     },
     "metadata": {},
     "output_type": "display_data"
    },
    {
     "data": {
      "text/plain": "HBox(children=(FloatProgress(value=0.0, description='hyperparameter samples', max=2.0, style=ProgressStyle(des…",
      "application/vnd.jupyter.widget-view+json": {
       "version_major": 2,
       "version_minor": 0,
       "model_id": "84cfb8d5730d4ebeb38fcabbe65d5c0b"
      }
     },
     "metadata": {},
     "output_type": "display_data"
    },
    {
     "data": {
      "text/plain": "HBox(children=(FloatProgress(value=0.0, description='hyperparameter samples', max=2.0, style=ProgressStyle(des…",
      "application/vnd.jupyter.widget-view+json": {
       "version_major": 2,
       "version_minor": 0,
       "model_id": "ca7f8afe3887440a9a34e6864e79bf62"
      }
     },
     "metadata": {},
     "output_type": "display_data"
    },
    {
     "data": {
      "text/plain": "HBox(children=(FloatProgress(value=0.0, description='max features', max=2.0, style=ProgressStyle(description_w…",
      "application/vnd.jupyter.widget-view+json": {
       "version_major": 2,
       "version_minor": 0,
       "model_id": "df6e32e2322d477fb604030c0e709585"
      }
     },
     "metadata": {},
     "output_type": "display_data"
    },
    {
     "data": {
      "text/plain": "HBox(children=(FloatProgress(value=0.0, description='hyperparameter samples', max=2.0, style=ProgressStyle(des…",
      "application/vnd.jupyter.widget-view+json": {
       "version_major": 2,
       "version_minor": 0,
       "model_id": "705a5eddfbb24d62b9eee5593a183b14"
      }
     },
     "metadata": {},
     "output_type": "display_data"
    },
    {
     "data": {
      "text/plain": "HBox(children=(FloatProgress(value=0.0, description='hyperparameter samples', max=2.0, style=ProgressStyle(des…",
      "application/vnd.jupyter.widget-view+json": {
       "version_major": 2,
       "version_minor": 0,
       "model_id": "526277aa954247d99c5ae36082f807d2"
      }
     },
     "metadata": {},
     "output_type": "display_data"
    },
    {
     "name": "stdout",
     "output_type": "stream",
     "text": [
      "\n"
     ]
    }
   ],
   "source": [
    "X = pd.DataFrame(data_iris['data'])\n",
    "y = data_iris['target']==1\n",
    "\n",
    "templates = [\n",
    "    ['decorr', 'standard_scaler', 'power_transformer', 'sfm_lr', 'clf_lr'],\n",
    "    ['decorr', 'standard_scaler', 'power_transformer', 'sfm_gb', 'clf_lr'],\n",
    "    ['decorr', 'standard_scaler', 'power_transformer', 'sfm_gb', 'clf_dt'],\n",
    "    ]\n",
    "\n",
    "cv = RepeatedStratifiedKFold(n_splits=5, n_repeats=2, random_state=313)\n",
    "\n",
    "df = pd.DataFrame()\n",
    "for template in tqdm_notebook(templates, desc='template', leave=True):\n",
    "    pipeline = get_pipeline(template)\n",
    "    for max_features in tqdm_notebook([2, 4], desc='max features', leave=False):\n",
    "        param_dist = get_param_dist(pipeline, max_features=max_features)\n",
    "        for n_iter in tqdm_notebook([10, 30], desc='hyperparameter samples', leave=False):\n",
    "            model_id = hashlib.md5('{}-{}-{}'.format(template, max_features, n_iter).encode('utf-8')).hexdigest()[:8]\n",
    "            # train the model\n",
    "            model = RandomizedSearchCV(pipeline, param_distributions=param_dist, scoring='roc_auc',\n",
    "                                             n_iter=n_iter, n_jobs=-2, cv=cv, random_state=313, error_score=np.nan, verbose=0)\n",
    "            start_time = time.time()\n",
    "            model.fit(X, y)\n",
    "            auc = pd.DataFrame(model.cv_results_).loc[model.best_index_, 'mean_test_score']\n",
    "            auc_sd = pd.DataFrame(model.cv_results_).loc[model.best_index_, 'std_test_score']\n",
    "            # save the results\n",
    "            exec_time = time.time()-start_time\n",
    "            current_time = datetime.now().strftime('%Y-%m-%d %H:%M:%S')\n",
    "            df.loc[model_id, 'pipeline'] = '-'.join(template)\n",
    "            df.loc[model_id, 'max_features'] = max_features\n",
    "            df.loc[model_id, 'hparam_samples'] = n_iter\n",
    "            df.loc[model_id, 'cv'] = cv\n",
    "            df.loc[model_id, 'auc'] = auc\n",
    "            df.loc[model_id, 'auc_sd'] = auc_sd\n",
    "            df.loc[model_id, 'exec_time'] = exec_time\n",
    "            df.loc[model_id, 'time_stamp'] = current_time"
   ]
  },
  {
   "cell_type": "code",
   "execution_count": 33,
   "outputs": [
    {
     "data": {
      "text/plain": "                                                pipeline  max_features  \\\n2afde  decorr-standard_scaler-power_transformer-sfm_l...           2.0   \n5118a  decorr-standard_scaler-power_transformer-sfm_l...           2.0   \nb995a  decorr-standard_scaler-power_transformer-sfm_l...           4.0   \n6c1c2  decorr-standard_scaler-power_transformer-sfm_l...           4.0   \nb9671  decorr-standard_scaler-power_transformer-sfm_g...           2.0   \n32bef  decorr-standard_scaler-power_transformer-sfm_g...           2.0   \n46895  decorr-standard_scaler-power_transformer-sfm_g...           4.0   \n1c98f  decorr-standard_scaler-power_transformer-sfm_g...           4.0   \n8d8fe  decorr-standard_scaler-power_transformer-sfm_g...           2.0   \n3e52e  decorr-standard_scaler-power_transformer-sfm_g...           2.0   \n4a3af  decorr-standard_scaler-power_transformer-sfm_g...           4.0   \n798bf  decorr-standard_scaler-power_transformer-sfm_g...           4.0   \n\n       hparam_samples                                                 cv  \\\n2afde            10.0  RepeatedStratifiedKFold(n_repeats=2, n_splits=...   \n5118a            30.0  RepeatedStratifiedKFold(n_repeats=2, n_splits=...   \nb995a            10.0  RepeatedStratifiedKFold(n_repeats=2, n_splits=...   \n6c1c2            30.0  RepeatedStratifiedKFold(n_repeats=2, n_splits=...   \nb9671            10.0  RepeatedStratifiedKFold(n_repeats=2, n_splits=...   \n32bef            30.0  RepeatedStratifiedKFold(n_repeats=2, n_splits=...   \n46895            10.0  RepeatedStratifiedKFold(n_repeats=2, n_splits=...   \n1c98f            30.0  RepeatedStratifiedKFold(n_repeats=2, n_splits=...   \n8d8fe            10.0  RepeatedStratifiedKFold(n_repeats=2, n_splits=...   \n3e52e            30.0  RepeatedStratifiedKFold(n_repeats=2, n_splits=...   \n4a3af            10.0  RepeatedStratifiedKFold(n_repeats=2, n_splits=...   \n798bf            30.0  RepeatedStratifiedKFold(n_repeats=2, n_splits=...   \n\n           auc    auc_sd  exec_time           time_stamp  \n2afde  0.79000  0.080172   0.681879  2020-04-09 19:33:11  \n5118a  0.79000  0.080172   1.824644  2020-04-09 19:33:13  \nb995a  0.79000  0.080172   0.661787  2020-04-09 19:33:14  \n6c1c2  0.82650  0.074500   1.528423  2020-04-09 19:33:16  \nb9671  0.77625  0.060604   7.738806  2020-04-09 19:33:23  \n32bef  0.79000  0.080172  17.521989  2020-04-09 19:33:41  \n46895  0.77625  0.060604   5.142695  2020-04-09 19:33:46  \n1c98f  0.79000  0.080172  10.000798  2020-04-09 19:33:56  \n8d8fe  0.97500  0.026149   9.048709  2020-04-09 19:34:05  \n3e52e  0.97500  0.026149  17.584514  2020-04-09 19:34:23  \n4a3af  0.97500  0.026149   7.072860  2020-04-09 19:34:30  \n798bf  0.97500  0.026149  10.000751  2020-04-09 19:34:40  ",
      "text/html": "<div>\n<style scoped>\n    .dataframe tbody tr th:only-of-type {\n        vertical-align: middle;\n    }\n\n    .dataframe tbody tr th {\n        vertical-align: top;\n    }\n\n    .dataframe thead th {\n        text-align: right;\n    }\n</style>\n<table border=\"1\" class=\"dataframe\">\n  <thead>\n    <tr style=\"text-align: right;\">\n      <th></th>\n      <th>pipeline</th>\n      <th>max_features</th>\n      <th>hparam_samples</th>\n      <th>cv</th>\n      <th>auc</th>\n      <th>auc_sd</th>\n      <th>exec_time</th>\n      <th>time_stamp</th>\n    </tr>\n  </thead>\n  <tbody>\n    <tr>\n      <th>2afde</th>\n      <td>decorr-standard_scaler-power_transformer-sfm_l...</td>\n      <td>2.0</td>\n      <td>10.0</td>\n      <td>RepeatedStratifiedKFold(n_repeats=2, n_splits=...</td>\n      <td>0.79000</td>\n      <td>0.080172</td>\n      <td>0.681879</td>\n      <td>2020-04-09 19:33:11</td>\n    </tr>\n    <tr>\n      <th>5118a</th>\n      <td>decorr-standard_scaler-power_transformer-sfm_l...</td>\n      <td>2.0</td>\n      <td>30.0</td>\n      <td>RepeatedStratifiedKFold(n_repeats=2, n_splits=...</td>\n      <td>0.79000</td>\n      <td>0.080172</td>\n      <td>1.824644</td>\n      <td>2020-04-09 19:33:13</td>\n    </tr>\n    <tr>\n      <th>b995a</th>\n      <td>decorr-standard_scaler-power_transformer-sfm_l...</td>\n      <td>4.0</td>\n      <td>10.0</td>\n      <td>RepeatedStratifiedKFold(n_repeats=2, n_splits=...</td>\n      <td>0.79000</td>\n      <td>0.080172</td>\n      <td>0.661787</td>\n      <td>2020-04-09 19:33:14</td>\n    </tr>\n    <tr>\n      <th>6c1c2</th>\n      <td>decorr-standard_scaler-power_transformer-sfm_l...</td>\n      <td>4.0</td>\n      <td>30.0</td>\n      <td>RepeatedStratifiedKFold(n_repeats=2, n_splits=...</td>\n      <td>0.82650</td>\n      <td>0.074500</td>\n      <td>1.528423</td>\n      <td>2020-04-09 19:33:16</td>\n    </tr>\n    <tr>\n      <th>b9671</th>\n      <td>decorr-standard_scaler-power_transformer-sfm_g...</td>\n      <td>2.0</td>\n      <td>10.0</td>\n      <td>RepeatedStratifiedKFold(n_repeats=2, n_splits=...</td>\n      <td>0.77625</td>\n      <td>0.060604</td>\n      <td>7.738806</td>\n      <td>2020-04-09 19:33:23</td>\n    </tr>\n    <tr>\n      <th>32bef</th>\n      <td>decorr-standard_scaler-power_transformer-sfm_g...</td>\n      <td>2.0</td>\n      <td>30.0</td>\n      <td>RepeatedStratifiedKFold(n_repeats=2, n_splits=...</td>\n      <td>0.79000</td>\n      <td>0.080172</td>\n      <td>17.521989</td>\n      <td>2020-04-09 19:33:41</td>\n    </tr>\n    <tr>\n      <th>46895</th>\n      <td>decorr-standard_scaler-power_transformer-sfm_g...</td>\n      <td>4.0</td>\n      <td>10.0</td>\n      <td>RepeatedStratifiedKFold(n_repeats=2, n_splits=...</td>\n      <td>0.77625</td>\n      <td>0.060604</td>\n      <td>5.142695</td>\n      <td>2020-04-09 19:33:46</td>\n    </tr>\n    <tr>\n      <th>1c98f</th>\n      <td>decorr-standard_scaler-power_transformer-sfm_g...</td>\n      <td>4.0</td>\n      <td>30.0</td>\n      <td>RepeatedStratifiedKFold(n_repeats=2, n_splits=...</td>\n      <td>0.79000</td>\n      <td>0.080172</td>\n      <td>10.000798</td>\n      <td>2020-04-09 19:33:56</td>\n    </tr>\n    <tr>\n      <th>8d8fe</th>\n      <td>decorr-standard_scaler-power_transformer-sfm_g...</td>\n      <td>2.0</td>\n      <td>10.0</td>\n      <td>RepeatedStratifiedKFold(n_repeats=2, n_splits=...</td>\n      <td>0.97500</td>\n      <td>0.026149</td>\n      <td>9.048709</td>\n      <td>2020-04-09 19:34:05</td>\n    </tr>\n    <tr>\n      <th>3e52e</th>\n      <td>decorr-standard_scaler-power_transformer-sfm_g...</td>\n      <td>2.0</td>\n      <td>30.0</td>\n      <td>RepeatedStratifiedKFold(n_repeats=2, n_splits=...</td>\n      <td>0.97500</td>\n      <td>0.026149</td>\n      <td>17.584514</td>\n      <td>2020-04-09 19:34:23</td>\n    </tr>\n    <tr>\n      <th>4a3af</th>\n      <td>decorr-standard_scaler-power_transformer-sfm_g...</td>\n      <td>4.0</td>\n      <td>10.0</td>\n      <td>RepeatedStratifiedKFold(n_repeats=2, n_splits=...</td>\n      <td>0.97500</td>\n      <td>0.026149</td>\n      <td>7.072860</td>\n      <td>2020-04-09 19:34:30</td>\n    </tr>\n    <tr>\n      <th>798bf</th>\n      <td>decorr-standard_scaler-power_transformer-sfm_g...</td>\n      <td>4.0</td>\n      <td>30.0</td>\n      <td>RepeatedStratifiedKFold(n_repeats=2, n_splits=...</td>\n      <td>0.97500</td>\n      <td>0.026149</td>\n      <td>10.000751</td>\n      <td>2020-04-09 19:34:40</td>\n    </tr>\n  </tbody>\n</table>\n</div>"
     },
     "execution_count": 33,
     "metadata": {},
     "output_type": "execute_result"
    }
   ],
   "source": [
    "df"
   ],
   "metadata": {
    "collapsed": false,
    "pycharm": {
     "name": "#%%\n"
    }
   }
  }
 ],
 "metadata": {
  "kernelspec": {
   "display_name": "Python 3",
   "language": "python",
   "name": "python3"
  },
  "language_info": {
   "codemirror_mode": {
    "name": "ipython",
    "version": 3
   },
   "file_extension": ".py",
   "mimetype": "text/x-python",
   "name": "python",
   "nbconvert_exporter": "python",
   "pygments_lexer": "ipython3",
   "version": "3.6.6"
  }
 },
 "nbformat": 4,
 "nbformat_minor": 2
}