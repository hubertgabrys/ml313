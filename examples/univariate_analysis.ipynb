{
 "cells": [
  {
   "cell_type": "code",
   "execution_count": 1,
   "metadata": {
    "pycharm": {
     "name": "#%%\n"
    }
   },
   "outputs": [],
   "source": [
    "import pandas as pd\n",
    "from sklearn.datasets import load_iris\n",
    "from ml313.univariate_analysis import univariate_analysis"
   ]
  },
  {
   "cell_type": "code",
   "execution_count": 2,
   "metadata": {},
   "outputs": [],
   "source": [
    "data_iris = load_iris()\n",
    "X = pd.DataFrame(data_iris['data'])\n",
    "y = data_iris['target']==1"
   ]
  },
  {
   "cell_type": "code",
   "execution_count": 3,
   "metadata": {
    "pycharm": {
     "name": "#%%\n"
    }
   },
   "outputs": [
    {
     "data": {
      "text/plain": "   n_neg  n_pos  median_neg  median_pos direction   cohen_d     auc   auc_cil  \\\n0    100     50         5.7        5.90  positive  0.167827  0.5715  0.494792   \n1    100     50         3.2        2.80  negative -1.114976  0.7942  0.733900   \n2    100     50         3.2        4.35  positive  0.434049  0.5089  0.434800   \n3    100     50         1.0        1.30  positive  0.250173  0.5098  0.432291   \n\n    auc_cih  u_stat        u_pval     f_stat        f_pval     h_stat  \\\n0  0.640200  2857.5  1.542841e-01   0.938858  3.341524e-01   2.035062   \n1  0.846518  3971.0  3.919743e-09  41.439072  1.595624e-09  34.686763   \n2  0.584400  2544.5  8.606063e-01   6.279943  1.329302e-02   0.031541   \n3  0.586992  2549.0  8.459355e-01   2.086218  1.507473e-01   0.038538   \n\n         h_pval   FWER    FDR  \n0  1.537079e-01  False  False  \n1  3.872558e-09   True   True  \n2  8.590388e-01  False  False  \n3  8.443674e-01  False  False  ",
      "text/html": "<div>\n<style scoped>\n    .dataframe tbody tr th:only-of-type {\n        vertical-align: middle;\n    }\n\n    .dataframe tbody tr th {\n        vertical-align: top;\n    }\n\n    .dataframe thead th {\n        text-align: right;\n    }\n</style>\n<table border=\"1\" class=\"dataframe\">\n  <thead>\n    <tr style=\"text-align: right;\">\n      <th></th>\n      <th>n_neg</th>\n      <th>n_pos</th>\n      <th>median_neg</th>\n      <th>median_pos</th>\n      <th>direction</th>\n      <th>cohen_d</th>\n      <th>auc</th>\n      <th>auc_cil</th>\n      <th>auc_cih</th>\n      <th>u_stat</th>\n      <th>u_pval</th>\n      <th>f_stat</th>\n      <th>f_pval</th>\n      <th>h_stat</th>\n      <th>h_pval</th>\n      <th>FWER</th>\n      <th>FDR</th>\n    </tr>\n  </thead>\n  <tbody>\n    <tr>\n      <th>0</th>\n      <td>100</td>\n      <td>50</td>\n      <td>5.7</td>\n      <td>5.90</td>\n      <td>positive</td>\n      <td>0.167827</td>\n      <td>0.5715</td>\n      <td>0.494792</td>\n      <td>0.640200</td>\n      <td>2857.5</td>\n      <td>1.542841e-01</td>\n      <td>0.938858</td>\n      <td>3.341524e-01</td>\n      <td>2.035062</td>\n      <td>1.537079e-01</td>\n      <td>False</td>\n      <td>False</td>\n    </tr>\n    <tr>\n      <th>1</th>\n      <td>100</td>\n      <td>50</td>\n      <td>3.2</td>\n      <td>2.80</td>\n      <td>negative</td>\n      <td>-1.114976</td>\n      <td>0.7942</td>\n      <td>0.733900</td>\n      <td>0.846518</td>\n      <td>3971.0</td>\n      <td>3.919743e-09</td>\n      <td>41.439072</td>\n      <td>1.595624e-09</td>\n      <td>34.686763</td>\n      <td>3.872558e-09</td>\n      <td>True</td>\n      <td>True</td>\n    </tr>\n    <tr>\n      <th>2</th>\n      <td>100</td>\n      <td>50</td>\n      <td>3.2</td>\n      <td>4.35</td>\n      <td>positive</td>\n      <td>0.434049</td>\n      <td>0.5089</td>\n      <td>0.434800</td>\n      <td>0.584400</td>\n      <td>2544.5</td>\n      <td>8.606063e-01</td>\n      <td>6.279943</td>\n      <td>1.329302e-02</td>\n      <td>0.031541</td>\n      <td>8.590388e-01</td>\n      <td>False</td>\n      <td>False</td>\n    </tr>\n    <tr>\n      <th>3</th>\n      <td>100</td>\n      <td>50</td>\n      <td>1.0</td>\n      <td>1.30</td>\n      <td>positive</td>\n      <td>0.250173</td>\n      <td>0.5098</td>\n      <td>0.432291</td>\n      <td>0.586992</td>\n      <td>2549.0</td>\n      <td>8.459355e-01</td>\n      <td>2.086218</td>\n      <td>1.507473e-01</td>\n      <td>0.038538</td>\n      <td>8.443674e-01</td>\n      <td>False</td>\n      <td>False</td>\n    </tr>\n  </tbody>\n</table>\n</div>"
     },
     "execution_count": 3,
     "metadata": {},
     "output_type": "execute_result"
    }
   ],
   "source": [
    "univariate_analysis(X, y)"
   ]
  }
 ],
 "metadata": {
  "kernelspec": {
   "display_name": "Python 3",
   "language": "python",
   "name": "python3"
  },
  "language_info": {
   "codemirror_mode": {
    "name": "ipython",
    "version": 3
   },
   "file_extension": ".py",
   "mimetype": "text/x-python",
   "name": "python",
   "nbconvert_exporter": "python",
   "pygments_lexer": "ipython3",
   "version": "3.6.6"
  }
 },
 "nbformat": 4,
 "nbformat_minor": 2
}