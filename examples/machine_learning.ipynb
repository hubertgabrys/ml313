{
 "cells": [
  {
   "cell_type": "code",
   "execution_count": 1,
   "metadata": {
    "pycharm": {
     "name": "#%%\n"
    }
   },
   "outputs": [],
   "source": [
    "import hashlib\n",
    "import time\n",
    "from datetime import datetime\n",
    "\n",
    "import numpy as np\n",
    "import pandas as pd\n",
    "from sklearn.datasets import load_iris\n",
    "from sklearn.model_selection import RandomizedSearchCV\n",
    "from sklearn.model_selection import RepeatedStratifiedKFold\n",
    "from tqdm.notebook import tqdm\n",
    "\n",
    "from ml313.auto_ml import get_pipeline\n",
    "from ml313.auto_ml import get_param_dist"
   ]
  },
  {
   "cell_type": "code",
   "execution_count": 2,
   "metadata": {},
   "outputs": [],
   "source": [
    "data_iris = load_iris()\n",
    "X = pd.DataFrame(data_iris['data'])\n",
    "y = data_iris['target']==1"
   ]
  },
  {
   "cell_type": "code",
   "execution_count": 3,
   "metadata": {},
   "outputs": [
    {
     "data": {
      "application/vnd.jupyter.widget-view+json": {
       "model_id": "944a699a38ec4dcaa84cb57e46a140ef",
       "version_major": 2,
       "version_minor": 0
      },
      "text/plain": [
       "HBox(children=(FloatProgress(value=0.0, description='template', max=5.0, style=ProgressStyle(description_width…"
      ]
     },
     "metadata": {},
     "output_type": "display_data"
    },
    {
     "data": {
      "application/vnd.jupyter.widget-view+json": {
       "model_id": "",
       "version_major": 2,
       "version_minor": 0
      },
      "text/plain": [
       "HBox(children=(FloatProgress(value=0.0, description='max features', max=2.0, style=ProgressStyle(description_w…"
      ]
     },
     "metadata": {},
     "output_type": "display_data"
    },
    {
     "data": {
      "application/vnd.jupyter.widget-view+json": {
       "model_id": "",
       "version_major": 2,
       "version_minor": 0
      },
      "text/plain": [
       "HBox(children=(FloatProgress(value=0.0, description='hyperparameter samples', max=2.0, style=ProgressStyle(des…"
      ]
     },
     "metadata": {},
     "output_type": "display_data"
    },
    {
     "data": {
      "application/vnd.jupyter.widget-view+json": {
       "model_id": "",
       "version_major": 2,
       "version_minor": 0
      },
      "text/plain": [
       "HBox(children=(FloatProgress(value=0.0, description='hyperparameter samples', max=2.0, style=ProgressStyle(des…"
      ]
     },
     "metadata": {},
     "output_type": "display_data"
    },
    {
     "data": {
      "application/vnd.jupyter.widget-view+json": {
       "model_id": "",
       "version_major": 2,
       "version_minor": 0
      },
      "text/plain": [
       "HBox(children=(FloatProgress(value=0.0, description='max features', max=2.0, style=ProgressStyle(description_w…"
      ]
     },
     "metadata": {},
     "output_type": "display_data"
    },
    {
     "data": {
      "application/vnd.jupyter.widget-view+json": {
       "model_id": "",
       "version_major": 2,
       "version_minor": 0
      },
      "text/plain": [
       "HBox(children=(FloatProgress(value=0.0, description='hyperparameter samples', max=2.0, style=ProgressStyle(des…"
      ]
     },
     "metadata": {},
     "output_type": "display_data"
    },
    {
     "data": {
      "application/vnd.jupyter.widget-view+json": {
       "model_id": "",
       "version_major": 2,
       "version_minor": 0
      },
      "text/plain": [
       "HBox(children=(FloatProgress(value=0.0, description='hyperparameter samples', max=2.0, style=ProgressStyle(des…"
      ]
     },
     "metadata": {},
     "output_type": "display_data"
    },
    {
     "data": {
      "application/vnd.jupyter.widget-view+json": {
       "model_id": "",
       "version_major": 2,
       "version_minor": 0
      },
      "text/plain": [
       "HBox(children=(FloatProgress(value=0.0, description='max features', max=2.0, style=ProgressStyle(description_w…"
      ]
     },
     "metadata": {},
     "output_type": "display_data"
    },
    {
     "data": {
      "application/vnd.jupyter.widget-view+json": {
       "model_id": "",
       "version_major": 2,
       "version_minor": 0
      },
      "text/plain": [
       "HBox(children=(FloatProgress(value=0.0, description='hyperparameter samples', max=2.0, style=ProgressStyle(des…"
      ]
     },
     "metadata": {},
     "output_type": "display_data"
    },
    {
     "data": {
      "application/vnd.jupyter.widget-view+json": {
       "model_id": "",
       "version_major": 2,
       "version_minor": 0
      },
      "text/plain": [
       "HBox(children=(FloatProgress(value=0.0, description='hyperparameter samples', max=2.0, style=ProgressStyle(des…"
      ]
     },
     "metadata": {},
     "output_type": "display_data"
    },
    {
     "data": {
      "application/vnd.jupyter.widget-view+json": {
       "model_id": "",
       "version_major": 2,
       "version_minor": 0
      },
      "text/plain": [
       "HBox(children=(FloatProgress(value=0.0, description='max features', max=2.0, style=ProgressStyle(description_w…"
      ]
     },
     "metadata": {},
     "output_type": "display_data"
    },
    {
     "data": {
      "application/vnd.jupyter.widget-view+json": {
       "model_id": "",
       "version_major": 2,
       "version_minor": 0
      },
      "text/plain": [
       "HBox(children=(FloatProgress(value=0.0, description='hyperparameter samples', max=2.0, style=ProgressStyle(des…"
      ]
     },
     "metadata": {},
     "output_type": "display_data"
    },
    {
     "data": {
      "application/vnd.jupyter.widget-view+json": {
       "model_id": "",
       "version_major": 2,
       "version_minor": 0
      },
      "text/plain": [
       "HBox(children=(FloatProgress(value=0.0, description='hyperparameter samples', max=2.0, style=ProgressStyle(des…"
      ]
     },
     "metadata": {},
     "output_type": "display_data"
    },
    {
     "data": {
      "application/vnd.jupyter.widget-view+json": {
       "model_id": "",
       "version_major": 2,
       "version_minor": 0
      },
      "text/plain": [
       "HBox(children=(FloatProgress(value=0.0, description='max features', max=2.0, style=ProgressStyle(description_w…"
      ]
     },
     "metadata": {},
     "output_type": "display_data"
    },
    {
     "data": {
      "application/vnd.jupyter.widget-view+json": {
       "model_id": "",
       "version_major": 2,
       "version_minor": 0
      },
      "text/plain": [
       "HBox(children=(FloatProgress(value=0.0, description='hyperparameter samples', max=2.0, style=ProgressStyle(des…"
      ]
     },
     "metadata": {},
     "output_type": "display_data"
    },
    {
     "data": {
      "application/vnd.jupyter.widget-view+json": {
       "model_id": "",
       "version_major": 2,
       "version_minor": 0
      },
      "text/plain": [
       "HBox(children=(FloatProgress(value=0.0, description='hyperparameter samples', max=2.0, style=ProgressStyle(des…"
      ]
     },
     "metadata": {},
     "output_type": "display_data"
    },
    {
     "name": "stdout",
     "output_type": "stream",
     "text": [
      "\n"
     ]
    }
   ],
   "source": [
    "X = pd.DataFrame(data_iris['data'])\n",
    "y = data_iris['target']==1\n",
    "\n",
    "templates = [\n",
    "    ['decorr', 'standard_scaler', 'power_transformer', 'sfm_lr', 'clf_lr'],\n",
    "    ['decorr', 'standard_scaler', 'power_transformer', 'sfm_gb', 'clf_lr'],\n",
    "    ['decorr', 'standard_scaler', 'power_transformer', 'sfm_gb', 'clf_dt'],\n",
    "    ['decorr', 'standard_scaler', 'power_transformer', 'sfm_gb', 'clf_et'],\n",
    "    ['decorr', 'standard_scaler', 'power_transformer', 'sfm_gb', 'clf_gb'],\n",
    "    ]\n",
    "\n",
    "cv = RepeatedStratifiedKFold(n_splits=5, n_repeats=2, random_state=313)\n",
    "\n",
    "df = pd.DataFrame()\n",
    "for template in tqdm(templates, desc='template', leave=True):\n",
    "    pipeline = get_pipeline(template)\n",
    "    for max_features in tqdm([2, 4], desc='max features', leave=False):\n",
    "        param_dist = get_param_dist(pipeline, max_features=max_features)\n",
    "        for n_iter in tqdm([10, 30], desc='hyperparameter samples', leave=False):\n",
    "            model_id = hashlib.md5('{}-{}-{}'.format(template, max_features, n_iter).encode('utf-8')).hexdigest()[:8]\n",
    "            # train the model\n",
    "            model = RandomizedSearchCV(pipeline, param_distributions=param_dist, scoring='roc_auc',\n",
    "                                             n_iter=n_iter, n_jobs=-2, cv=cv, random_state=313, error_score=np.nan, verbose=0)\n",
    "            start_time = time.time()\n",
    "            model.fit(X, y)\n",
    "            auc = pd.DataFrame(model.cv_results_).loc[model.best_index_, 'mean_test_score']\n",
    "            auc_sd = pd.DataFrame(model.cv_results_).loc[model.best_index_, 'std_test_score']\n",
    "            # save the results\n",
    "            exec_time = time.time()-start_time\n",
    "            current_time = datetime.now().strftime('%Y-%m-%d %H:%M:%S')\n",
    "            df.loc[model_id, 'pipeline'] = '-'.join(template)\n",
    "            df.loc[model_id, 'max_features'] = max_features\n",
    "            df.loc[model_id, 'hparam_samples'] = n_iter\n",
    "            df.loc[model_id, 'cv'] = cv\n",
    "            df.loc[model_id, 'auc'] = auc\n",
    "            df.loc[model_id, 'auc_sd'] = auc_sd\n",
    "            df.loc[model_id, 'exec_time'] = exec_time\n",
    "            df.loc[model_id, 'time_stamp'] = current_time"
   ]
  },
  {
   "cell_type": "code",
   "execution_count": 4,
   "metadata": {
    "pycharm": {
     "name": "#%%\n"
    }
   },
   "outputs": [
    {
     "data": {
      "text/html": [
       "<div>\n",
       "<style scoped>\n",
       "    .dataframe tbody tr th:only-of-type {\n",
       "        vertical-align: middle;\n",
       "    }\n",
       "\n",
       "    .dataframe tbody tr th {\n",
       "        vertical-align: top;\n",
       "    }\n",
       "\n",
       "    .dataframe thead th {\n",
       "        text-align: right;\n",
       "    }\n",
       "</style>\n",
       "<table border=\"1\" class=\"dataframe\">\n",
       "  <thead>\n",
       "    <tr style=\"text-align: right;\">\n",
       "      <th></th>\n",
       "      <th>pipeline</th>\n",
       "      <th>max_features</th>\n",
       "      <th>hparam_samples</th>\n",
       "      <th>cv</th>\n",
       "      <th>auc</th>\n",
       "      <th>auc_sd</th>\n",
       "      <th>exec_time</th>\n",
       "      <th>time_stamp</th>\n",
       "    </tr>\n",
       "  </thead>\n",
       "  <tbody>\n",
       "    <tr>\n",
       "      <th>c1c3b095</th>\n",
       "      <td>decorr-standard_scaler-power_transformer-sfm_gb-clf_et</td>\n",
       "      <td>2.0</td>\n",
       "      <td>30.0</td>\n",
       "      <td>RepeatedStratifiedKFold(n_repeats=2, n_splits=5, random_...</td>\n",
       "      <td>0.99125</td>\n",
       "      <td>0.010323</td>\n",
       "      <td>37.356362</td>\n",
       "      <td>2020-06-06 16:05:33</td>\n",
       "    </tr>\n",
       "    <tr>\n",
       "      <th>5a9d01a4</th>\n",
       "      <td>decorr-standard_scaler-power_transformer-sfm_gb-clf_et</td>\n",
       "      <td>4.0</td>\n",
       "      <td>30.0</td>\n",
       "      <td>RepeatedStratifiedKFold(n_repeats=2, n_splits=5, random_...</td>\n",
       "      <td>0.99050</td>\n",
       "      <td>0.012639</td>\n",
       "      <td>35.848240</td>\n",
       "      <td>2020-06-06 16:06:22</td>\n",
       "    </tr>\n",
       "    <tr>\n",
       "      <th>5b4d324a</th>\n",
       "      <td>decorr-standard_scaler-power_transformer-sfm_gb-clf_et</td>\n",
       "      <td>2.0</td>\n",
       "      <td>10.0</td>\n",
       "      <td>RepeatedStratifiedKFold(n_repeats=2, n_splits=5, random_...</td>\n",
       "      <td>0.99025</td>\n",
       "      <td>0.008097</td>\n",
       "      <td>14.750679</td>\n",
       "      <td>2020-06-06 16:04:56</td>\n",
       "    </tr>\n",
       "    <tr>\n",
       "      <th>289ba6c6</th>\n",
       "      <td>decorr-standard_scaler-power_transformer-sfm_gb-clf_et</td>\n",
       "      <td>4.0</td>\n",
       "      <td>10.0</td>\n",
       "      <td>RepeatedStratifiedKFold(n_repeats=2, n_splits=5, random_...</td>\n",
       "      <td>0.98450</td>\n",
       "      <td>0.014569</td>\n",
       "      <td>13.212121</td>\n",
       "      <td>2020-06-06 16:05:46</td>\n",
       "    </tr>\n",
       "    <tr>\n",
       "      <th>4a3afb35</th>\n",
       "      <td>decorr-standard_scaler-power_transformer-sfm_gb-clf_dt</td>\n",
       "      <td>4.0</td>\n",
       "      <td>10.0</td>\n",
       "      <td>RepeatedStratifiedKFold(n_repeats=2, n_splits=5, random_...</td>\n",
       "      <td>0.97575</td>\n",
       "      <td>0.030415</td>\n",
       "      <td>8.566640</td>\n",
       "      <td>2020-06-06 16:04:20</td>\n",
       "    </tr>\n",
       "    <tr>\n",
       "      <th>798bf402</th>\n",
       "      <td>decorr-standard_scaler-power_transformer-sfm_gb-clf_dt</td>\n",
       "      <td>4.0</td>\n",
       "      <td>30.0</td>\n",
       "      <td>RepeatedStratifiedKFold(n_repeats=2, n_splits=5, random_...</td>\n",
       "      <td>0.97575</td>\n",
       "      <td>0.030415</td>\n",
       "      <td>20.588879</td>\n",
       "      <td>2020-06-06 16:04:41</td>\n",
       "    </tr>\n",
       "    <tr>\n",
       "      <th>3e52ee3e</th>\n",
       "      <td>decorr-standard_scaler-power_transformer-sfm_gb-clf_dt</td>\n",
       "      <td>2.0</td>\n",
       "      <td>30.0</td>\n",
       "      <td>RepeatedStratifiedKFold(n_repeats=2, n_splits=5, random_...</td>\n",
       "      <td>0.97525</td>\n",
       "      <td>0.030051</td>\n",
       "      <td>12.325019</td>\n",
       "      <td>2020-06-06 16:04:12</td>\n",
       "    </tr>\n",
       "    <tr>\n",
       "      <th>8d8fe09b</th>\n",
       "      <td>decorr-standard_scaler-power_transformer-sfm_gb-clf_dt</td>\n",
       "      <td>2.0</td>\n",
       "      <td>10.0</td>\n",
       "      <td>RepeatedStratifiedKFold(n_repeats=2, n_splits=5, random_...</td>\n",
       "      <td>0.97525</td>\n",
       "      <td>0.030051</td>\n",
       "      <td>6.139858</td>\n",
       "      <td>2020-06-06 16:03:59</td>\n",
       "    </tr>\n",
       "    <tr>\n",
       "      <th>e328a4a9</th>\n",
       "      <td>decorr-standard_scaler-power_transformer-sfm_gb-clf_gb</td>\n",
       "      <td>4.0</td>\n",
       "      <td>10.0</td>\n",
       "      <td>RepeatedStratifiedKFold(n_repeats=2, n_splits=5, random_...</td>\n",
       "      <td>0.97375</td>\n",
       "      <td>0.020894</td>\n",
       "      <td>9.611211</td>\n",
       "      <td>2020-06-06 16:07:05</td>\n",
       "    </tr>\n",
       "    <tr>\n",
       "      <th>3fbd5ca7</th>\n",
       "      <td>decorr-standard_scaler-power_transformer-sfm_gb-clf_gb</td>\n",
       "      <td>4.0</td>\n",
       "      <td>30.0</td>\n",
       "      <td>RepeatedStratifiedKFold(n_repeats=2, n_splits=5, random_...</td>\n",
       "      <td>0.97375</td>\n",
       "      <td>0.020894</td>\n",
       "      <td>23.287587</td>\n",
       "      <td>2020-06-06 16:07:28</td>\n",
       "    </tr>\n",
       "    <tr>\n",
       "      <th>5f844796</th>\n",
       "      <td>decorr-standard_scaler-power_transformer-sfm_gb-clf_gb</td>\n",
       "      <td>2.0</td>\n",
       "      <td>10.0</td>\n",
       "      <td>RepeatedStratifiedKFold(n_repeats=2, n_splits=5, random_...</td>\n",
       "      <td>0.97300</td>\n",
       "      <td>0.030265</td>\n",
       "      <td>9.135945</td>\n",
       "      <td>2020-06-06 16:06:31</td>\n",
       "    </tr>\n",
       "    <tr>\n",
       "      <th>7d6b5a9b</th>\n",
       "      <td>decorr-standard_scaler-power_transformer-sfm_gb-clf_gb</td>\n",
       "      <td>2.0</td>\n",
       "      <td>30.0</td>\n",
       "      <td>RepeatedStratifiedKFold(n_repeats=2, n_splits=5, random_...</td>\n",
       "      <td>0.97300</td>\n",
       "      <td>0.030265</td>\n",
       "      <td>23.984127</td>\n",
       "      <td>2020-06-06 16:06:55</td>\n",
       "    </tr>\n",
       "    <tr>\n",
       "      <th>1c98fe00</th>\n",
       "      <td>decorr-standard_scaler-power_transformer-sfm_gb-clf_lr</td>\n",
       "      <td>4.0</td>\n",
       "      <td>30.0</td>\n",
       "      <td>RepeatedStratifiedKFold(n_repeats=2, n_splits=5, random_...</td>\n",
       "      <td>0.82800</td>\n",
       "      <td>0.064969</td>\n",
       "      <td>12.979150</td>\n",
       "      <td>2020-06-06 16:03:53</td>\n",
       "    </tr>\n",
       "    <tr>\n",
       "      <th>46895cb3</th>\n",
       "      <td>decorr-standard_scaler-power_transformer-sfm_gb-clf_lr</td>\n",
       "      <td>4.0</td>\n",
       "      <td>10.0</td>\n",
       "      <td>RepeatedStratifiedKFold(n_repeats=2, n_splits=5, random_...</td>\n",
       "      <td>0.82800</td>\n",
       "      <td>0.064969</td>\n",
       "      <td>4.868808</td>\n",
       "      <td>2020-06-06 16:03:40</td>\n",
       "    </tr>\n",
       "    <tr>\n",
       "      <th>6c1c205a</th>\n",
       "      <td>decorr-standard_scaler-power_transformer-sfm_lr-clf_lr</td>\n",
       "      <td>4.0</td>\n",
       "      <td>30.0</td>\n",
       "      <td>RepeatedStratifiedKFold(n_repeats=2, n_splits=5, random_...</td>\n",
       "      <td>0.82800</td>\n",
       "      <td>0.072911</td>\n",
       "      <td>1.270764</td>\n",
       "      <td>2020-06-06 16:03:18</td>\n",
       "    </tr>\n",
       "    <tr>\n",
       "      <th>b995aeb1</th>\n",
       "      <td>decorr-standard_scaler-power_transformer-sfm_lr-clf_lr</td>\n",
       "      <td>4.0</td>\n",
       "      <td>10.0</td>\n",
       "      <td>RepeatedStratifiedKFold(n_repeats=2, n_splits=5, random_...</td>\n",
       "      <td>0.81850</td>\n",
       "      <td>0.082129</td>\n",
       "      <td>0.443352</td>\n",
       "      <td>2020-06-06 16:03:16</td>\n",
       "    </tr>\n",
       "    <tr>\n",
       "      <th>5118a544</th>\n",
       "      <td>decorr-standard_scaler-power_transformer-sfm_lr-clf_lr</td>\n",
       "      <td>2.0</td>\n",
       "      <td>30.0</td>\n",
       "      <td>RepeatedStratifiedKFold(n_repeats=2, n_splits=5, random_...</td>\n",
       "      <td>0.79000</td>\n",
       "      <td>0.080172</td>\n",
       "      <td>1.783857</td>\n",
       "      <td>2020-06-06 16:03:16</td>\n",
       "    </tr>\n",
       "    <tr>\n",
       "      <th>32bef9e1</th>\n",
       "      <td>decorr-standard_scaler-power_transformer-sfm_gb-clf_lr</td>\n",
       "      <td>2.0</td>\n",
       "      <td>30.0</td>\n",
       "      <td>RepeatedStratifiedKFold(n_repeats=2, n_splits=5, random_...</td>\n",
       "      <td>0.79000</td>\n",
       "      <td>0.080172</td>\n",
       "      <td>12.224242</td>\n",
       "      <td>2020-06-06 16:03:35</td>\n",
       "    </tr>\n",
       "    <tr>\n",
       "      <th>2afdeca0</th>\n",
       "      <td>decorr-standard_scaler-power_transformer-sfm_lr-clf_lr</td>\n",
       "      <td>2.0</td>\n",
       "      <td>10.0</td>\n",
       "      <td>RepeatedStratifiedKFold(n_repeats=2, n_splits=5, random_...</td>\n",
       "      <td>0.79000</td>\n",
       "      <td>0.080172</td>\n",
       "      <td>1.767895</td>\n",
       "      <td>2020-06-06 16:03:14</td>\n",
       "    </tr>\n",
       "    <tr>\n",
       "      <th>b9671c97</th>\n",
       "      <td>decorr-standard_scaler-power_transformer-sfm_gb-clf_lr</td>\n",
       "      <td>2.0</td>\n",
       "      <td>10.0</td>\n",
       "      <td>RepeatedStratifiedKFold(n_repeats=2, n_splits=5, random_...</td>\n",
       "      <td>0.77925</td>\n",
       "      <td>0.071160</td>\n",
       "      <td>5.360384</td>\n",
       "      <td>2020-06-06 16:03:23</td>\n",
       "    </tr>\n",
       "  </tbody>\n",
       "</table>\n",
       "</div>"
      ],
      "text/plain": [
       "                                                        pipeline  \\\n",
       "c1c3b095  decorr-standard_scaler-power_transformer-sfm_gb-clf_et   \n",
       "5a9d01a4  decorr-standard_scaler-power_transformer-sfm_gb-clf_et   \n",
       "5b4d324a  decorr-standard_scaler-power_transformer-sfm_gb-clf_et   \n",
       "289ba6c6  decorr-standard_scaler-power_transformer-sfm_gb-clf_et   \n",
       "4a3afb35  decorr-standard_scaler-power_transformer-sfm_gb-clf_dt   \n",
       "798bf402  decorr-standard_scaler-power_transformer-sfm_gb-clf_dt   \n",
       "3e52ee3e  decorr-standard_scaler-power_transformer-sfm_gb-clf_dt   \n",
       "8d8fe09b  decorr-standard_scaler-power_transformer-sfm_gb-clf_dt   \n",
       "e328a4a9  decorr-standard_scaler-power_transformer-sfm_gb-clf_gb   \n",
       "3fbd5ca7  decorr-standard_scaler-power_transformer-sfm_gb-clf_gb   \n",
       "5f844796  decorr-standard_scaler-power_transformer-sfm_gb-clf_gb   \n",
       "7d6b5a9b  decorr-standard_scaler-power_transformer-sfm_gb-clf_gb   \n",
       "1c98fe00  decorr-standard_scaler-power_transformer-sfm_gb-clf_lr   \n",
       "46895cb3  decorr-standard_scaler-power_transformer-sfm_gb-clf_lr   \n",
       "6c1c205a  decorr-standard_scaler-power_transformer-sfm_lr-clf_lr   \n",
       "b995aeb1  decorr-standard_scaler-power_transformer-sfm_lr-clf_lr   \n",
       "5118a544  decorr-standard_scaler-power_transformer-sfm_lr-clf_lr   \n",
       "32bef9e1  decorr-standard_scaler-power_transformer-sfm_gb-clf_lr   \n",
       "2afdeca0  decorr-standard_scaler-power_transformer-sfm_lr-clf_lr   \n",
       "b9671c97  decorr-standard_scaler-power_transformer-sfm_gb-clf_lr   \n",
       "\n",
       "          max_features  hparam_samples  \\\n",
       "c1c3b095           2.0            30.0   \n",
       "5a9d01a4           4.0            30.0   \n",
       "5b4d324a           2.0            10.0   \n",
       "289ba6c6           4.0            10.0   \n",
       "4a3afb35           4.0            10.0   \n",
       "798bf402           4.0            30.0   \n",
       "3e52ee3e           2.0            30.0   \n",
       "8d8fe09b           2.0            10.0   \n",
       "e328a4a9           4.0            10.0   \n",
       "3fbd5ca7           4.0            30.0   \n",
       "5f844796           2.0            10.0   \n",
       "7d6b5a9b           2.0            30.0   \n",
       "1c98fe00           4.0            30.0   \n",
       "46895cb3           4.0            10.0   \n",
       "6c1c205a           4.0            30.0   \n",
       "b995aeb1           4.0            10.0   \n",
       "5118a544           2.0            30.0   \n",
       "32bef9e1           2.0            30.0   \n",
       "2afdeca0           2.0            10.0   \n",
       "b9671c97           2.0            10.0   \n",
       "\n",
       "                                                                   cv  \\\n",
       "c1c3b095  RepeatedStratifiedKFold(n_repeats=2, n_splits=5, random_...   \n",
       "5a9d01a4  RepeatedStratifiedKFold(n_repeats=2, n_splits=5, random_...   \n",
       "5b4d324a  RepeatedStratifiedKFold(n_repeats=2, n_splits=5, random_...   \n",
       "289ba6c6  RepeatedStratifiedKFold(n_repeats=2, n_splits=5, random_...   \n",
       "4a3afb35  RepeatedStratifiedKFold(n_repeats=2, n_splits=5, random_...   \n",
       "798bf402  RepeatedStratifiedKFold(n_repeats=2, n_splits=5, random_...   \n",
       "3e52ee3e  RepeatedStratifiedKFold(n_repeats=2, n_splits=5, random_...   \n",
       "8d8fe09b  RepeatedStratifiedKFold(n_repeats=2, n_splits=5, random_...   \n",
       "e328a4a9  RepeatedStratifiedKFold(n_repeats=2, n_splits=5, random_...   \n",
       "3fbd5ca7  RepeatedStratifiedKFold(n_repeats=2, n_splits=5, random_...   \n",
       "5f844796  RepeatedStratifiedKFold(n_repeats=2, n_splits=5, random_...   \n",
       "7d6b5a9b  RepeatedStratifiedKFold(n_repeats=2, n_splits=5, random_...   \n",
       "1c98fe00  RepeatedStratifiedKFold(n_repeats=2, n_splits=5, random_...   \n",
       "46895cb3  RepeatedStratifiedKFold(n_repeats=2, n_splits=5, random_...   \n",
       "6c1c205a  RepeatedStratifiedKFold(n_repeats=2, n_splits=5, random_...   \n",
       "b995aeb1  RepeatedStratifiedKFold(n_repeats=2, n_splits=5, random_...   \n",
       "5118a544  RepeatedStratifiedKFold(n_repeats=2, n_splits=5, random_...   \n",
       "32bef9e1  RepeatedStratifiedKFold(n_repeats=2, n_splits=5, random_...   \n",
       "2afdeca0  RepeatedStratifiedKFold(n_repeats=2, n_splits=5, random_...   \n",
       "b9671c97  RepeatedStratifiedKFold(n_repeats=2, n_splits=5, random_...   \n",
       "\n",
       "              auc    auc_sd  exec_time           time_stamp  \n",
       "c1c3b095  0.99125  0.010323  37.356362  2020-06-06 16:05:33  \n",
       "5a9d01a4  0.99050  0.012639  35.848240  2020-06-06 16:06:22  \n",
       "5b4d324a  0.99025  0.008097  14.750679  2020-06-06 16:04:56  \n",
       "289ba6c6  0.98450  0.014569  13.212121  2020-06-06 16:05:46  \n",
       "4a3afb35  0.97575  0.030415   8.566640  2020-06-06 16:04:20  \n",
       "798bf402  0.97575  0.030415  20.588879  2020-06-06 16:04:41  \n",
       "3e52ee3e  0.97525  0.030051  12.325019  2020-06-06 16:04:12  \n",
       "8d8fe09b  0.97525  0.030051   6.139858  2020-06-06 16:03:59  \n",
       "e328a4a9  0.97375  0.020894   9.611211  2020-06-06 16:07:05  \n",
       "3fbd5ca7  0.97375  0.020894  23.287587  2020-06-06 16:07:28  \n",
       "5f844796  0.97300  0.030265   9.135945  2020-06-06 16:06:31  \n",
       "7d6b5a9b  0.97300  0.030265  23.984127  2020-06-06 16:06:55  \n",
       "1c98fe00  0.82800  0.064969  12.979150  2020-06-06 16:03:53  \n",
       "46895cb3  0.82800  0.064969   4.868808  2020-06-06 16:03:40  \n",
       "6c1c205a  0.82800  0.072911   1.270764  2020-06-06 16:03:18  \n",
       "b995aeb1  0.81850  0.082129   0.443352  2020-06-06 16:03:16  \n",
       "5118a544  0.79000  0.080172   1.783857  2020-06-06 16:03:16  \n",
       "32bef9e1  0.79000  0.080172  12.224242  2020-06-06 16:03:35  \n",
       "2afdeca0  0.79000  0.080172   1.767895  2020-06-06 16:03:14  \n",
       "b9671c97  0.77925  0.071160   5.360384  2020-06-06 16:03:23  "
      ]
     },
     "execution_count": 4,
     "metadata": {},
     "output_type": "execute_result"
    }
   ],
   "source": [
    "pd.set_option('max_colwidth', 60)\n",
    "df.sort_values('auc', ascending=False)"
   ]
  }
 ],
 "metadata": {
  "kernelspec": {
   "display_name": "Python 3",
   "language": "python",
   "name": "python3"
  },
  "language_info": {
   "codemirror_mode": {
    "name": "ipython",
    "version": 3
   },
   "file_extension": ".py",
   "mimetype": "text/x-python",
   "name": "python",
   "nbconvert_exporter": "python",
   "pygments_lexer": "ipython3",
   "version": "3.7.6"
  }
 },
 "nbformat": 4,
 "nbformat_minor": 2
}
