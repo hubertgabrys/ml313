{
 "cells": [
  {
   "cell_type": "code",
   "execution_count": 1,
   "metadata": {
    "pycharm": {
     "name": "#%%\n"
    }
   },
   "outputs": [],
   "source": [
    "import hashlib\n",
    "import time\n",
    "from datetime import datetime\n",
    "\n",
    "import numpy as np\n",
    "import pandas as pd\n",
    "from sklearn.datasets import load_iris\n",
    "from sklearn.model_selection import RandomizedSearchCV\n",
    "from sklearn.model_selection import RepeatedStratifiedKFold\n",
    "from tqdm.notebook import tqdm\n",
    "\n",
    "from ml313.auto_ml import get_pipeline\n",
    "from ml313.auto_ml import get_param_dist"
   ]
  },
  {
   "cell_type": "code",
   "execution_count": 2,
   "metadata": {},
   "outputs": [],
   "source": [
    "data_iris = load_iris()\n",
    "X = pd.DataFrame(data_iris['data'])\n",
    "y = data_iris['target']==1"
   ]
  },
  {
   "cell_type": "code",
   "execution_count": 3,
   "metadata": {},
   "outputs": [
    {
     "data": {
      "text/plain": "HBox(children=(FloatProgress(value=0.0, description='template', max=3.0, style=ProgressStyle(description_width…",
      "application/vnd.jupyter.widget-view+json": {
       "version_major": 2,
       "version_minor": 0,
       "model_id": "2c27869f9c4549f983c5aee97dd45e59"
      }
     },
     "metadata": {},
     "output_type": "display_data"
    },
    {
     "data": {
      "text/plain": "HBox(children=(FloatProgress(value=0.0, description='max features', max=2.0, style=ProgressStyle(description_w…",
      "application/vnd.jupyter.widget-view+json": {
       "version_major": 2,
       "version_minor": 0,
       "model_id": "529e58e7d48945cbb34879a1c09c50a0"
      }
     },
     "metadata": {},
     "output_type": "display_data"
    },
    {
     "data": {
      "text/plain": "HBox(children=(FloatProgress(value=0.0, description='hyperparameter samples', max=2.0, style=ProgressStyle(des…",
      "application/vnd.jupyter.widget-view+json": {
       "version_major": 2,
       "version_minor": 0,
       "model_id": "846be831266245f98bd9049d9d1e506a"
      }
     },
     "metadata": {},
     "output_type": "display_data"
    },
    {
     "name": "stderr",
     "output_type": "stream",
     "text": [
      "/Users/hubert/opt/anaconda3/envs/radler/lib/python3.8/site-packages/sklearn/linear_model/_logistic.py:1499: UserWarning: l1_ratio parameter is only used when penalty is 'elasticnet'. Got (penalty=l1)\n",
      "  warnings.warn(\"l1_ratio parameter is only used when penalty is \"\n",
      "/Users/hubert/opt/anaconda3/envs/radler/lib/python3.8/site-packages/sklearn/linear_model/_logistic.py:1499: UserWarning: l1_ratio parameter is only used when penalty is 'elasticnet'. Got (penalty=l2)\n",
      "  warnings.warn(\"l1_ratio parameter is only used when penalty is \"\n",
      "/Users/hubert/opt/anaconda3/envs/radler/lib/python3.8/site-packages/sklearn/linear_model/_logistic.py:1499: UserWarning: l1_ratio parameter is only used when penalty is 'elasticnet'. Got (penalty=l1)\n",
      "  warnings.warn(\"l1_ratio parameter is only used when penalty is \"\n",
      "/Users/hubert/opt/anaconda3/envs/radler/lib/python3.8/site-packages/sklearn/linear_model/_logistic.py:1499: UserWarning: l1_ratio parameter is only used when penalty is 'elasticnet'. Got (penalty=l2)\n",
      "  warnings.warn(\"l1_ratio parameter is only used when penalty is \"\n",
      "/Users/hubert/opt/anaconda3/envs/radler/lib/python3.8/site-packages/sklearn/linear_model/_logistic.py:1499: UserWarning: l1_ratio parameter is only used when penalty is 'elasticnet'. Got (penalty=l1)\n",
      "  warnings.warn(\"l1_ratio parameter is only used when penalty is \"\n",
      "/Users/hubert/opt/anaconda3/envs/radler/lib/python3.8/site-packages/sklearn/linear_model/_logistic.py:1499: UserWarning: l1_ratio parameter is only used when penalty is 'elasticnet'. Got (penalty=l2)\n",
      "  warnings.warn(\"l1_ratio parameter is only used when penalty is \"\n",
      "/Users/hubert/opt/anaconda3/envs/radler/lib/python3.8/site-packages/sklearn/linear_model/_logistic.py:1499: UserWarning: l1_ratio parameter is only used when penalty is 'elasticnet'. Got (penalty=l2)\n",
      "  warnings.warn(\"l1_ratio parameter is only used when penalty is \"\n",
      "/Users/hubert/opt/anaconda3/envs/radler/lib/python3.8/site-packages/sklearn/linear_model/_logistic.py:1499: UserWarning: l1_ratio parameter is only used when penalty is 'elasticnet'. Got (penalty=l2)\n",
      "  warnings.warn(\"l1_ratio parameter is only used when penalty is \"\n",
      "/Users/hubert/opt/anaconda3/envs/radler/lib/python3.8/site-packages/sklearn/linear_model/_logistic.py:1499: UserWarning: l1_ratio parameter is only used when penalty is 'elasticnet'. Got (penalty=l2)\n",
      "  warnings.warn(\"l1_ratio parameter is only used when penalty is \"\n"
     ]
    },
    {
     "data": {
      "text/plain": "HBox(children=(FloatProgress(value=0.0, description='hyperparameter samples', max=2.0, style=ProgressStyle(des…",
      "application/vnd.jupyter.widget-view+json": {
       "version_major": 2,
       "version_minor": 0,
       "model_id": "0dfefb2d33244235921d7216370889e8"
      }
     },
     "metadata": {},
     "output_type": "display_data"
    },
    {
     "data": {
      "text/plain": "HBox(children=(FloatProgress(value=0.0, description='max features', max=2.0, style=ProgressStyle(description_w…",
      "application/vnd.jupyter.widget-view+json": {
       "version_major": 2,
       "version_minor": 0,
       "model_id": "1b3ebf04f1bd41ae961613d221bae8db"
      }
     },
     "metadata": {},
     "output_type": "display_data"
    },
    {
     "data": {
      "text/plain": "HBox(children=(FloatProgress(value=0.0, description='hyperparameter samples', max=2.0, style=ProgressStyle(des…",
      "application/vnd.jupyter.widget-view+json": {
       "version_major": 2,
       "version_minor": 0,
       "model_id": "6ce483f59a414d31a43c5b3901e8ea96"
      }
     },
     "metadata": {},
     "output_type": "display_data"
    },
    {
     "data": {
      "text/plain": "HBox(children=(FloatProgress(value=0.0, description='hyperparameter samples', max=2.0, style=ProgressStyle(des…",
      "application/vnd.jupyter.widget-view+json": {
       "version_major": 2,
       "version_minor": 0,
       "model_id": "0e8cecc9c58144ac8a3d85de06152d75"
      }
     },
     "metadata": {},
     "output_type": "display_data"
    },
    {
     "data": {
      "text/plain": "HBox(children=(FloatProgress(value=0.0, description='max features', max=2.0, style=ProgressStyle(description_w…",
      "application/vnd.jupyter.widget-view+json": {
       "version_major": 2,
       "version_minor": 0,
       "model_id": "6d858cf9d813430cbf8d25fdf6369d28"
      }
     },
     "metadata": {},
     "output_type": "display_data"
    },
    {
     "data": {
      "text/plain": "HBox(children=(FloatProgress(value=0.0, description='hyperparameter samples', max=2.0, style=ProgressStyle(des…",
      "application/vnd.jupyter.widget-view+json": {
       "version_major": 2,
       "version_minor": 0,
       "model_id": "ac70763b589142e59991164933c21a4b"
      }
     },
     "metadata": {},
     "output_type": "display_data"
    },
    {
     "data": {
      "text/plain": "HBox(children=(FloatProgress(value=0.0, description='hyperparameter samples', max=2.0, style=ProgressStyle(des…",
      "application/vnd.jupyter.widget-view+json": {
       "version_major": 2,
       "version_minor": 0,
       "model_id": "9e15b7308da64d2ab917f7f80037b78f"
      }
     },
     "metadata": {},
     "output_type": "display_data"
    },
    {
     "name": "stdout",
     "output_type": "stream",
     "text": [
      "\n"
     ]
    }
   ],
   "source": [
    "X = pd.DataFrame(data_iris['data'])\n",
    "y = data_iris['target']==1\n",
    "\n",
    "templates = [\n",
    "    ['decorr', 'standard_scaler', 'power_transformer', 'sfm_lr', 'clf_lr'],\n",
    "    ['decorr', 'standard_scaler', 'power_transformer', 'sfm_gb', 'clf_lr'],\n",
    "    ['decorr', 'standard_scaler', 'power_transformer', 'sfm_gb', 'clf_dt'],\n",
    "    ]\n",
    "\n",
    "cv = RepeatedStratifiedKFold(n_splits=5, n_repeats=2, random_state=313)\n",
    "\n",
    "df = pd.DataFrame()\n",
    "for template in tqdm(templates, desc='template', leave=True):\n",
    "    pipeline = get_pipeline(template)\n",
    "    for max_features in tqdm([2, 4], desc='max features', leave=False):\n",
    "        param_dist = get_param_dist(pipeline, max_features=max_features)\n",
    "        for n_iter in tqdm([10, 30], desc='hyperparameter samples', leave=False):\n",
    "            model_id = hashlib.md5('{}-{}-{}'.format(template, max_features, n_iter).encode('utf-8')).hexdigest()[:8]\n",
    "            # train the model\n",
    "            model = RandomizedSearchCV(pipeline, param_distributions=param_dist, scoring='roc_auc',\n",
    "                                             n_iter=n_iter, n_jobs=-2, cv=cv, random_state=313, error_score=np.nan, verbose=0)\n",
    "            start_time = time.time()\n",
    "            model.fit(X, y)\n",
    "            auc = pd.DataFrame(model.cv_results_).loc[model.best_index_, 'mean_test_score']\n",
    "            auc_sd = pd.DataFrame(model.cv_results_).loc[model.best_index_, 'std_test_score']\n",
    "            # save the results\n",
    "            exec_time = time.time()-start_time\n",
    "            current_time = datetime.now().strftime('%Y-%m-%d %H:%M:%S')\n",
    "            df.loc[model_id, 'pipeline'] = '-'.join(template)\n",
    "            df.loc[model_id, 'max_features'] = max_features\n",
    "            df.loc[model_id, 'hparam_samples'] = n_iter\n",
    "            df.loc[model_id, 'cv'] = cv\n",
    "            df.loc[model_id, 'auc'] = auc\n",
    "            df.loc[model_id, 'auc_sd'] = auc_sd\n",
    "            df.loc[model_id, 'exec_time'] = exec_time\n",
    "            df.loc[model_id, 'time_stamp'] = current_time"
   ]
  },
  {
   "cell_type": "code",
   "execution_count": 4,
   "outputs": [
    {
     "data": {
      "text/plain": "                                                   pipeline  max_features  \\\n2afdeca0  decorr-standard_scaler-power_transformer-sfm_l...           2.0   \n5118a544  decorr-standard_scaler-power_transformer-sfm_l...           2.0   \nb995aeb1  decorr-standard_scaler-power_transformer-sfm_l...           4.0   \n6c1c205a  decorr-standard_scaler-power_transformer-sfm_l...           4.0   \nb9671c97  decorr-standard_scaler-power_transformer-sfm_g...           2.0   \n32bef9e1  decorr-standard_scaler-power_transformer-sfm_g...           2.0   \n46895cb3  decorr-standard_scaler-power_transformer-sfm_g...           4.0   \n1c98fe00  decorr-standard_scaler-power_transformer-sfm_g...           4.0   \n8d8fe09b  decorr-standard_scaler-power_transformer-sfm_g...           2.0   \n3e52ee3e  decorr-standard_scaler-power_transformer-sfm_g...           2.0   \n4a3afb35  decorr-standard_scaler-power_transformer-sfm_g...           4.0   \n798bf402  decorr-standard_scaler-power_transformer-sfm_g...           4.0   \n\n          hparam_samples                                                 cv  \\\n2afdeca0            10.0  RepeatedStratifiedKFold(n_repeats=2, n_splits=...   \n5118a544            30.0  RepeatedStratifiedKFold(n_repeats=2, n_splits=...   \nb995aeb1            10.0  RepeatedStratifiedKFold(n_repeats=2, n_splits=...   \n6c1c205a            30.0  RepeatedStratifiedKFold(n_repeats=2, n_splits=...   \nb9671c97            10.0  RepeatedStratifiedKFold(n_repeats=2, n_splits=...   \n32bef9e1            30.0  RepeatedStratifiedKFold(n_repeats=2, n_splits=...   \n46895cb3            10.0  RepeatedStratifiedKFold(n_repeats=2, n_splits=...   \n1c98fe00            30.0  RepeatedStratifiedKFold(n_repeats=2, n_splits=...   \n8d8fe09b            10.0  RepeatedStratifiedKFold(n_repeats=2, n_splits=...   \n3e52ee3e            30.0  RepeatedStratifiedKFold(n_repeats=2, n_splits=...   \n4a3afb35            10.0  RepeatedStratifiedKFold(n_repeats=2, n_splits=...   \n798bf402            30.0  RepeatedStratifiedKFold(n_repeats=2, n_splits=...   \n\n              auc    auc_sd  exec_time           time_stamp  \n2afdeca0  0.79000  0.080172   1.518283  2020-04-20 23:04:13  \n5118a544  0.79000  0.080172   1.008866  2020-04-20 23:04:14  \nb995aeb1  0.79000  0.080172   0.344487  2020-04-20 23:04:14  \n6c1c205a  0.82650  0.074500   0.808317  2020-04-20 23:04:15  \nb9671c97  0.77625  0.060604   4.085796  2020-04-20 23:04:19  \n32bef9e1  0.79000  0.080172   9.796276  2020-04-20 23:04:29  \n46895cb3  0.77625  0.060604   2.960023  2020-04-20 23:04:32  \n1c98fe00  0.79000  0.080172   5.567027  2020-04-20 23:04:38  \n8d8fe09b  0.97500  0.026149   4.967484  2020-04-20 23:04:43  \n3e52ee3e  0.97500  0.026149   9.695922  2020-04-20 23:04:52  \n4a3afb35  0.97500  0.026149   3.499653  2020-04-20 23:04:56  \n798bf402  0.97500  0.026149   5.712120  2020-04-20 23:05:02  ",
      "text/html": "<div>\n<style scoped>\n    .dataframe tbody tr th:only-of-type {\n        vertical-align: middle;\n    }\n\n    .dataframe tbody tr th {\n        vertical-align: top;\n    }\n\n    .dataframe thead th {\n        text-align: right;\n    }\n</style>\n<table border=\"1\" class=\"dataframe\">\n  <thead>\n    <tr style=\"text-align: right;\">\n      <th></th>\n      <th>pipeline</th>\n      <th>max_features</th>\n      <th>hparam_samples</th>\n      <th>cv</th>\n      <th>auc</th>\n      <th>auc_sd</th>\n      <th>exec_time</th>\n      <th>time_stamp</th>\n    </tr>\n  </thead>\n  <tbody>\n    <tr>\n      <th>2afdeca0</th>\n      <td>decorr-standard_scaler-power_transformer-sfm_l...</td>\n      <td>2.0</td>\n      <td>10.0</td>\n      <td>RepeatedStratifiedKFold(n_repeats=2, n_splits=...</td>\n      <td>0.79000</td>\n      <td>0.080172</td>\n      <td>1.518283</td>\n      <td>2020-04-20 23:04:13</td>\n    </tr>\n    <tr>\n      <th>5118a544</th>\n      <td>decorr-standard_scaler-power_transformer-sfm_l...</td>\n      <td>2.0</td>\n      <td>30.0</td>\n      <td>RepeatedStratifiedKFold(n_repeats=2, n_splits=...</td>\n      <td>0.79000</td>\n      <td>0.080172</td>\n      <td>1.008866</td>\n      <td>2020-04-20 23:04:14</td>\n    </tr>\n    <tr>\n      <th>b995aeb1</th>\n      <td>decorr-standard_scaler-power_transformer-sfm_l...</td>\n      <td>4.0</td>\n      <td>10.0</td>\n      <td>RepeatedStratifiedKFold(n_repeats=2, n_splits=...</td>\n      <td>0.79000</td>\n      <td>0.080172</td>\n      <td>0.344487</td>\n      <td>2020-04-20 23:04:14</td>\n    </tr>\n    <tr>\n      <th>6c1c205a</th>\n      <td>decorr-standard_scaler-power_transformer-sfm_l...</td>\n      <td>4.0</td>\n      <td>30.0</td>\n      <td>RepeatedStratifiedKFold(n_repeats=2, n_splits=...</td>\n      <td>0.82650</td>\n      <td>0.074500</td>\n      <td>0.808317</td>\n      <td>2020-04-20 23:04:15</td>\n    </tr>\n    <tr>\n      <th>b9671c97</th>\n      <td>decorr-standard_scaler-power_transformer-sfm_g...</td>\n      <td>2.0</td>\n      <td>10.0</td>\n      <td>RepeatedStratifiedKFold(n_repeats=2, n_splits=...</td>\n      <td>0.77625</td>\n      <td>0.060604</td>\n      <td>4.085796</td>\n      <td>2020-04-20 23:04:19</td>\n    </tr>\n    <tr>\n      <th>32bef9e1</th>\n      <td>decorr-standard_scaler-power_transformer-sfm_g...</td>\n      <td>2.0</td>\n      <td>30.0</td>\n      <td>RepeatedStratifiedKFold(n_repeats=2, n_splits=...</td>\n      <td>0.79000</td>\n      <td>0.080172</td>\n      <td>9.796276</td>\n      <td>2020-04-20 23:04:29</td>\n    </tr>\n    <tr>\n      <th>46895cb3</th>\n      <td>decorr-standard_scaler-power_transformer-sfm_g...</td>\n      <td>4.0</td>\n      <td>10.0</td>\n      <td>RepeatedStratifiedKFold(n_repeats=2, n_splits=...</td>\n      <td>0.77625</td>\n      <td>0.060604</td>\n      <td>2.960023</td>\n      <td>2020-04-20 23:04:32</td>\n    </tr>\n    <tr>\n      <th>1c98fe00</th>\n      <td>decorr-standard_scaler-power_transformer-sfm_g...</td>\n      <td>4.0</td>\n      <td>30.0</td>\n      <td>RepeatedStratifiedKFold(n_repeats=2, n_splits=...</td>\n      <td>0.79000</td>\n      <td>0.080172</td>\n      <td>5.567027</td>\n      <td>2020-04-20 23:04:38</td>\n    </tr>\n    <tr>\n      <th>8d8fe09b</th>\n      <td>decorr-standard_scaler-power_transformer-sfm_g...</td>\n      <td>2.0</td>\n      <td>10.0</td>\n      <td>RepeatedStratifiedKFold(n_repeats=2, n_splits=...</td>\n      <td>0.97500</td>\n      <td>0.026149</td>\n      <td>4.967484</td>\n      <td>2020-04-20 23:04:43</td>\n    </tr>\n    <tr>\n      <th>3e52ee3e</th>\n      <td>decorr-standard_scaler-power_transformer-sfm_g...</td>\n      <td>2.0</td>\n      <td>30.0</td>\n      <td>RepeatedStratifiedKFold(n_repeats=2, n_splits=...</td>\n      <td>0.97500</td>\n      <td>0.026149</td>\n      <td>9.695922</td>\n      <td>2020-04-20 23:04:52</td>\n    </tr>\n    <tr>\n      <th>4a3afb35</th>\n      <td>decorr-standard_scaler-power_transformer-sfm_g...</td>\n      <td>4.0</td>\n      <td>10.0</td>\n      <td>RepeatedStratifiedKFold(n_repeats=2, n_splits=...</td>\n      <td>0.97500</td>\n      <td>0.026149</td>\n      <td>3.499653</td>\n      <td>2020-04-20 23:04:56</td>\n    </tr>\n    <tr>\n      <th>798bf402</th>\n      <td>decorr-standard_scaler-power_transformer-sfm_g...</td>\n      <td>4.0</td>\n      <td>30.0</td>\n      <td>RepeatedStratifiedKFold(n_repeats=2, n_splits=...</td>\n      <td>0.97500</td>\n      <td>0.026149</td>\n      <td>5.712120</td>\n      <td>2020-04-20 23:05:02</td>\n    </tr>\n  </tbody>\n</table>\n</div>"
     },
     "execution_count": 4,
     "metadata": {},
     "output_type": "execute_result"
    }
   ],
   "source": [
    "df"
   ],
   "metadata": {
    "collapsed": false,
    "pycharm": {
     "name": "#%%\n"
    }
   }
  }
 ],
 "metadata": {
  "kernelspec": {
   "display_name": "Python 3",
   "language": "python",
   "name": "python3"
  },
  "language_info": {
   "codemirror_mode": {
    "name": "ipython",
    "version": 3
   },
   "file_extension": ".py",
   "mimetype": "text/x-python",
   "name": "python",
   "nbconvert_exporter": "python",
   "pygments_lexer": "ipython3",
   "version": "3.6.6"
  }
 },
 "nbformat": 4,
 "nbformat_minor": 2
}