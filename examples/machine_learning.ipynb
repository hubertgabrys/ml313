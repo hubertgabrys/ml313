{
 "cells": [
  {
   "cell_type": "code",
   "execution_count": 1,
   "metadata": {
    "pycharm": {
     "name": "#%%\n"
    }
   },
   "outputs": [],
   "source": [
    "import hashlib\n",
    "import time\n",
    "from datetime import datetime\n",
    "\n",
    "import numpy as np\n",
    "import pandas as pd\n",
    "from sklearn.datasets import load_iris\n",
    "from sklearn.model_selection import RandomizedSearchCV\n",
    "from sklearn.model_selection import RepeatedStratifiedKFold\n",
    "from tqdm.notebook import tqdm\n",
    "\n",
    "from ml313.auto_ml import get_pipeline\n",
    "from ml313.auto_ml import get_param_dist"
   ]
  },
  {
   "cell_type": "code",
   "execution_count": 2,
   "metadata": {},
   "outputs": [],
   "source": [
    "data_iris = load_iris()\n",
    "X = pd.DataFrame(data_iris['data'])\n",
    "y = data_iris['target'] == 1\n",
    "\n",
    "max_model_dims = [2, 4]\n",
    "hyperparam_samples = [10, 30]"
   ]
  },
  {
   "cell_type": "code",
   "execution_count": 3,
   "metadata": {},
   "outputs": [
    {
     "data": {
      "application/vnd.jupyter.widget-view+json": {
       "model_id": "03dac53d9d1848ba95feb2da2a47387c",
       "version_major": 2,
       "version_minor": 0
      },
      "text/plain": [
       "HBox(children=(HTML(value='template'), FloatProgress(value=0.0, max=2.0), HTML(value='')))"
      ]
     },
     "metadata": {},
     "output_type": "display_data"
    },
    {
     "data": {
      "application/vnd.jupyter.widget-view+json": {
       "model_id": "",
       "version_major": 2,
       "version_minor": 0
      },
      "text/plain": [
       "HBox(children=(HTML(value='max features'), FloatProgress(value=0.0, max=2.0), HTML(value='')))"
      ]
     },
     "metadata": {},
     "output_type": "display_data"
    },
    {
     "data": {
      "application/vnd.jupyter.widget-view+json": {
       "model_id": "",
       "version_major": 2,
       "version_minor": 0
      },
      "text/plain": [
       "HBox(children=(HTML(value='hyperparameter samples'), FloatProgress(value=0.0, max=2.0), HTML(value='')))"
      ]
     },
     "metadata": {},
     "output_type": "display_data"
    },
    {
     "data": {
      "application/vnd.jupyter.widget-view+json": {
       "model_id": "",
       "version_major": 2,
       "version_minor": 0
      },
      "text/plain": [
       "HBox(children=(HTML(value='hyperparameter samples'), FloatProgress(value=0.0, max=2.0), HTML(value='')))"
      ]
     },
     "metadata": {},
     "output_type": "display_data"
    },
    {
     "data": {
      "application/vnd.jupyter.widget-view+json": {
       "model_id": "",
       "version_major": 2,
       "version_minor": 0
      },
      "text/plain": [
       "HBox(children=(HTML(value='max features'), FloatProgress(value=0.0, max=2.0), HTML(value='')))"
      ]
     },
     "metadata": {},
     "output_type": "display_data"
    },
    {
     "data": {
      "application/vnd.jupyter.widget-view+json": {
       "model_id": "",
       "version_major": 2,
       "version_minor": 0
      },
      "text/plain": [
       "HBox(children=(HTML(value='hyperparameter samples'), FloatProgress(value=0.0, max=2.0), HTML(value='')))"
      ]
     },
     "metadata": {},
     "output_type": "display_data"
    },
    {
     "data": {
      "application/vnd.jupyter.widget-view+json": {
       "model_id": "",
       "version_major": 2,
       "version_minor": 0
      },
      "text/plain": [
       "HBox(children=(HTML(value='hyperparameter samples'), FloatProgress(value=0.0, max=2.0), HTML(value='')))"
      ]
     },
     "metadata": {},
     "output_type": "display_data"
    },
    {
     "name": "stdout",
     "output_type": "stream",
     "text": [
      "\n"
     ]
    }
   ],
   "source": [
    "templates = [\n",
    "    ['decorr', 'standard_scaler', 'sfm_lr', 'clf_lr'],\n",
    "    ['decorr', 'standard_scaler', 'sfm_gb', 'clf_et'],\n",
    "    ]\n",
    "\n",
    "cv = RepeatedStratifiedKFold(n_splits=5, n_repeats=2, random_state=313)\n",
    "\n",
    "df = pd.DataFrame()\n",
    "for template in tqdm(templates, desc='template', leave=True):\n",
    "    pipeline = get_pipeline(template)\n",
    "    for max_features in tqdm(max_model_dims, desc='max features', leave=False):\n",
    "        param_dist = get_param_dist(pipeline, max_features=max_features)\n",
    "        for n_iter in tqdm([10, 30], desc='hyperparameter samples', leave=False):\n",
    "            model_id = hashlib.md5('{}-{}-{}'.format(template, max_features, n_iter).encode('utf-8')).hexdigest()[:8]\n",
    "            # train the model\n",
    "            model = RandomizedSearchCV(pipeline, param_distributions=param_dist, scoring='roc_auc',\n",
    "                                             n_iter=n_iter, n_jobs=-2, cv=cv, random_state=313, error_score=np.nan, verbose=0)\n",
    "            start_time = time.time()\n",
    "            model.fit(X, y)\n",
    "            auc = pd.DataFrame(model.cv_results_).loc[model.best_index_, 'mean_test_score']\n",
    "            auc_sd = pd.DataFrame(model.cv_results_).loc[model.best_index_, 'std_test_score']\n",
    "            # save the results\n",
    "            exec_time = time.time()-start_time\n",
    "            current_time = datetime.now().strftime('%Y-%m-%d %H:%M:%S')\n",
    "            df.loc[model_id, 'pipeline'] = '-'.join(template)\n",
    "            df.loc[model_id, 'max_features'] = max_features\n",
    "            df.loc[model_id, 'hparam_samples'] = n_iter\n",
    "            df.loc[model_id, 'cv'] = cv\n",
    "            df.loc[model_id, 'auc'] = auc\n",
    "            df.loc[model_id, 'auc_sd'] = auc_sd\n",
    "            df.loc[model_id, 'exec_time'] = exec_time\n",
    "            df.loc[model_id, 'time_stamp'] = current_time"
   ]
  },
  {
   "cell_type": "code",
   "execution_count": 4,
   "metadata": {},
   "outputs": [
    {
     "data": {
      "text/html": [
       "<div>\n",
       "<style scoped>\n",
       "    .dataframe tbody tr th:only-of-type {\n",
       "        vertical-align: middle;\n",
       "    }\n",
       "\n",
       "    .dataframe tbody tr th {\n",
       "        vertical-align: top;\n",
       "    }\n",
       "\n",
       "    .dataframe thead th {\n",
       "        text-align: right;\n",
       "    }\n",
       "</style>\n",
       "<table border=\"1\" class=\"dataframe\">\n",
       "  <thead>\n",
       "    <tr style=\"text-align: right;\">\n",
       "      <th></th>\n",
       "      <th>pipeline</th>\n",
       "      <th>max_features</th>\n",
       "      <th>hparam_samples</th>\n",
       "      <th>cv</th>\n",
       "      <th>auc</th>\n",
       "      <th>auc_sd</th>\n",
       "      <th>exec_time</th>\n",
       "      <th>time_stamp</th>\n",
       "    </tr>\n",
       "  </thead>\n",
       "  <tbody>\n",
       "    <tr>\n",
       "      <th>3478cc3f</th>\n",
       "      <td>decorr-standard_scaler-sfm_lr-clf_lr</td>\n",
       "      <td>2.0</td>\n",
       "      <td>10.0</td>\n",
       "      <td>RepeatedStratifiedKFold(n_repeats=2, n_splits=...</td>\n",
       "      <td>0.79000</td>\n",
       "      <td>0.080172</td>\n",
       "      <td>2.797559</td>\n",
       "      <td>2021-01-19 15:40:13</td>\n",
       "    </tr>\n",
       "    <tr>\n",
       "      <th>79eb8d03</th>\n",
       "      <td>decorr-standard_scaler-sfm_lr-clf_lr</td>\n",
       "      <td>2.0</td>\n",
       "      <td>30.0</td>\n",
       "      <td>RepeatedStratifiedKFold(n_repeats=2, n_splits=...</td>\n",
       "      <td>0.79000</td>\n",
       "      <td>0.080172</td>\n",
       "      <td>1.295428</td>\n",
       "      <td>2021-01-19 15:40:14</td>\n",
       "    </tr>\n",
       "    <tr>\n",
       "      <th>51ba4c31</th>\n",
       "      <td>decorr-standard_scaler-sfm_lr-clf_lr</td>\n",
       "      <td>4.0</td>\n",
       "      <td>10.0</td>\n",
       "      <td>RepeatedStratifiedKFold(n_repeats=2, n_splits=...</td>\n",
       "      <td>0.79000</td>\n",
       "      <td>0.080172</td>\n",
       "      <td>0.455641</td>\n",
       "      <td>2021-01-19 15:40:15</td>\n",
       "    </tr>\n",
       "    <tr>\n",
       "      <th>c1801022</th>\n",
       "      <td>decorr-standard_scaler-sfm_lr-clf_lr</td>\n",
       "      <td>4.0</td>\n",
       "      <td>30.0</td>\n",
       "      <td>RepeatedStratifiedKFold(n_repeats=2, n_splits=...</td>\n",
       "      <td>0.79000</td>\n",
       "      <td>0.080172</td>\n",
       "      <td>1.235412</td>\n",
       "      <td>2021-01-19 15:40:16</td>\n",
       "    </tr>\n",
       "    <tr>\n",
       "      <th>6edf4d47</th>\n",
       "      <td>decorr-standard_scaler-sfm_gb-clf_et</td>\n",
       "      <td>4.0</td>\n",
       "      <td>10.0</td>\n",
       "      <td>RepeatedStratifiedKFold(n_repeats=2, n_splits=...</td>\n",
       "      <td>0.98550</td>\n",
       "      <td>0.013314</td>\n",
       "      <td>13.229991</td>\n",
       "      <td>2021-01-19 15:41:17</td>\n",
       "    </tr>\n",
       "    <tr>\n",
       "      <th>2200a66d</th>\n",
       "      <td>decorr-standard_scaler-sfm_gb-clf_et</td>\n",
       "      <td>2.0</td>\n",
       "      <td>10.0</td>\n",
       "      <td>RepeatedStratifiedKFold(n_repeats=2, n_splits=...</td>\n",
       "      <td>0.98875</td>\n",
       "      <td>0.008004</td>\n",
       "      <td>13.641399</td>\n",
       "      <td>2021-01-19 15:40:29</td>\n",
       "    </tr>\n",
       "    <tr>\n",
       "      <th>db452999</th>\n",
       "      <td>decorr-standard_scaler-sfm_gb-clf_et</td>\n",
       "      <td>4.0</td>\n",
       "      <td>30.0</td>\n",
       "      <td>RepeatedStratifiedKFold(n_repeats=2, n_splits=...</td>\n",
       "      <td>0.99050</td>\n",
       "      <td>0.012639</td>\n",
       "      <td>35.225111</td>\n",
       "      <td>2021-01-19 15:41:52</td>\n",
       "    </tr>\n",
       "    <tr>\n",
       "      <th>bd9c7d58</th>\n",
       "      <td>decorr-standard_scaler-sfm_gb-clf_et</td>\n",
       "      <td>2.0</td>\n",
       "      <td>30.0</td>\n",
       "      <td>RepeatedStratifiedKFold(n_repeats=2, n_splits=...</td>\n",
       "      <td>0.99175</td>\n",
       "      <td>0.009223</td>\n",
       "      <td>33.873405</td>\n",
       "      <td>2021-01-19 15:41:03</td>\n",
       "    </tr>\n",
       "  </tbody>\n",
       "</table>\n",
       "</div>"
      ],
      "text/plain": [
       "                                      pipeline  max_features  hparam_samples  \\\n",
       "3478cc3f  decorr-standard_scaler-sfm_lr-clf_lr           2.0            10.0   \n",
       "79eb8d03  decorr-standard_scaler-sfm_lr-clf_lr           2.0            30.0   \n",
       "51ba4c31  decorr-standard_scaler-sfm_lr-clf_lr           4.0            10.0   \n",
       "c1801022  decorr-standard_scaler-sfm_lr-clf_lr           4.0            30.0   \n",
       "6edf4d47  decorr-standard_scaler-sfm_gb-clf_et           4.0            10.0   \n",
       "2200a66d  decorr-standard_scaler-sfm_gb-clf_et           2.0            10.0   \n",
       "db452999  decorr-standard_scaler-sfm_gb-clf_et           4.0            30.0   \n",
       "bd9c7d58  decorr-standard_scaler-sfm_gb-clf_et           2.0            30.0   \n",
       "\n",
       "                                                         cv      auc  \\\n",
       "3478cc3f  RepeatedStratifiedKFold(n_repeats=2, n_splits=...  0.79000   \n",
       "79eb8d03  RepeatedStratifiedKFold(n_repeats=2, n_splits=...  0.79000   \n",
       "51ba4c31  RepeatedStratifiedKFold(n_repeats=2, n_splits=...  0.79000   \n",
       "c1801022  RepeatedStratifiedKFold(n_repeats=2, n_splits=...  0.79000   \n",
       "6edf4d47  RepeatedStratifiedKFold(n_repeats=2, n_splits=...  0.98550   \n",
       "2200a66d  RepeatedStratifiedKFold(n_repeats=2, n_splits=...  0.98875   \n",
       "db452999  RepeatedStratifiedKFold(n_repeats=2, n_splits=...  0.99050   \n",
       "bd9c7d58  RepeatedStratifiedKFold(n_repeats=2, n_splits=...  0.99175   \n",
       "\n",
       "            auc_sd  exec_time           time_stamp  \n",
       "3478cc3f  0.080172   2.797559  2021-01-19 15:40:13  \n",
       "79eb8d03  0.080172   1.295428  2021-01-19 15:40:14  \n",
       "51ba4c31  0.080172   0.455641  2021-01-19 15:40:15  \n",
       "c1801022  0.080172   1.235412  2021-01-19 15:40:16  \n",
       "6edf4d47  0.013314  13.229991  2021-01-19 15:41:17  \n",
       "2200a66d  0.008004  13.641399  2021-01-19 15:40:29  \n",
       "db452999  0.012639  35.225111  2021-01-19 15:41:52  \n",
       "bd9c7d58  0.009223  33.873405  2021-01-19 15:41:03  "
      ]
     },
     "execution_count": 4,
     "metadata": {},
     "output_type": "execute_result"
    }
   ],
   "source": [
    "df.sort_values('auc')"
   ]
  }
 ],
 "metadata": {
  "kernelspec": {
   "display_name": "Python 3",
   "language": "python",
   "name": "python3"
  },
  "language_info": {
   "codemirror_mode": {
    "name": "ipython",
    "version": 3
   },
   "file_extension": ".py",
   "mimetype": "text/x-python",
   "name": "python",
   "nbconvert_exporter": "python",
   "pygments_lexer": "ipython3",
   "version": "3.8.6"
  }
 },
 "nbformat": 4,
 "nbformat_minor": 2
}
